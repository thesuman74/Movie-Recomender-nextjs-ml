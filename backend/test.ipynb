{
 "cells": [
  {
   "cell_type": "code",
   "execution_count": 2,
   "metadata": {},
   "outputs": [],
   "source": [
    "import pandas as pd"
   ]
  },
  {
   "cell_type": "code",
   "execution_count": 5,
   "metadata": {},
   "outputs": [
    {
     "name": "stdout",
     "output_type": "stream",
     "text": [
      "<class 'pandas.core.frame.DataFrame'>\n",
      "RangeIndex: 6010 entries, 0 to 6009\n",
      "Data columns (total 7 columns):\n",
      " #   Column         Non-Null Count  Dtype \n",
      "---  ------         --------------  ----- \n",
      " 0   director_name  6010 non-null   object\n",
      " 1   actor_1_name   6010 non-null   object\n",
      " 2   actor_2_name   6010 non-null   object\n",
      " 3   actor_3_name   6010 non-null   object\n",
      " 4   genres         6010 non-null   object\n",
      " 5   movie_title    6010 non-null   object\n",
      " 6   comb           6010 non-null   object\n",
      "dtypes: object(7)\n",
      "memory usage: 328.8+ KB\n"
     ]
    }
   ],
   "source": [
    "movies = pd.read_csv(\"main_data.csv\")\n",
    "movies.info()"
   ]
  },
  {
   "cell_type": "code",
   "execution_count": null,
   "metadata": {},
   "outputs": [],
   "source": [
    "def getMoviesByGenre(genre):\n",
    "    data = pd.read_csv('main_data.csv')\n",
    "    # Filter movies that contain the selected genre\n",
    "    filtered_data = data[data['genres'].str.contains(genre, case=False, na=False)]\n",
    "    return list(filtered_data['movie_title'].str.capitalize())"
   ]
  }
 ],
 "metadata": {
  "kernelspec": {
   "display_name": ".venv",
   "language": "python",
   "name": "python3"
  },
  "language_info": {
   "codemirror_mode": {
    "name": "ipython",
    "version": 3
   },
   "file_extension": ".py",
   "mimetype": "text/x-python",
   "name": "python",
   "nbconvert_exporter": "python",
   "pygments_lexer": "ipython3",
   "version": "3.12.4"
  }
 },
 "nbformat": 4,
 "nbformat_minor": 2
}
