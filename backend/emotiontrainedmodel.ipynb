{
 "cells": [
  {
   "cell_type": "code",
   "execution_count": 29,
   "id": "0a0d1c61-667b-487b-880f-ae8ec3ae2c53",
   "metadata": {},
   "outputs": [],
   "source": [
    "from tensorflow.keras.utils import to_categorical\n",
    "from tensorflow.keras.utils import load_img\n",
    "from keras.models import Sequential\n",
    "from keras.layers import Dense, Conv2D, Dropout, Flatten, MaxPooling2D\n",
    "import os\n",
    "import pandas as pd\n",
    "import numpy as np"
   ]
  },
  {
   "cell_type": "code",
   "execution_count": 19,
   "id": "65ef8f5a-c840-49c7-9a9a-27f13808062b",
   "metadata": {},
   "outputs": [],
   "source": [
    "TRAIN_DIR = 'images/train'\n",
    "TEST_DIR = 'images/test'"
   ]
  },
  {
   "cell_type": "code",
   "execution_count": 20,
   "id": "ab937792-0515-4ef9-b7f9-c76763f0e506",
   "metadata": {},
   "outputs": [],
   "source": [
    "def createdataframe(dir):\n",
    "    image_paths = []\n",
    "    labels = []\n",
    "    for label in os.listdir(dir):\n",
    "        for imagename in os.listdir(os.path.join(dir,label)):\n",
    "            image_paths.append(os.path.join(dir,label,imagename))\n",
    "            labels.append(label)\n",
    "        print(label, \"completed\")\n",
    "    return image_paths,labels"
   ]
  },
  {
   "cell_type": "code",
   "execution_count": 21,
   "id": "fe69941d-1db6-4ce1-8aa9-acd0a890f4b8",
   "metadata": {},
   "outputs": [
    {
     "name": "stdout",
     "output_type": "stream",
     "text": [
      "angry completed\n",
      "disgust completed\n",
      "fear completed\n",
      "happy completed\n",
      "neutral completed\n",
      "sad completed\n",
      "surprise completed\n"
     ]
    }
   ],
   "source": [
    "train = pd.DataFrame()\n",
    "train['image'], train['label'] = createdataframe(TRAIN_DIR)"
   ]
  },
  {
   "cell_type": "code",
   "execution_count": 22,
   "id": "c32d86ee-8542-4a6b-87c8-4bf394d30a31",
   "metadata": {},
   "outputs": [
    {
     "name": "stdout",
     "output_type": "stream",
     "text": [
      "                                image     label\n",
      "0            images/train\\angry\\0.jpg     angry\n",
      "1            images/train\\angry\\1.jpg     angry\n",
      "2           images/train\\angry\\10.jpg     angry\n",
      "3        images/train\\angry\\10002.jpg     angry\n",
      "4        images/train\\angry\\10016.jpg     angry\n",
      "...                               ...       ...\n",
      "28816  images/train\\surprise\\9969.jpg  surprise\n",
      "28817  images/train\\surprise\\9985.jpg  surprise\n",
      "28818  images/train\\surprise\\9990.jpg  surprise\n",
      "28819  images/train\\surprise\\9992.jpg  surprise\n",
      "28820  images/train\\surprise\\9996.jpg  surprise\n",
      "\n",
      "[28821 rows x 2 columns]\n"
     ]
    }
   ],
   "source": [
    "print(train)\n"
   ]
  },
  {
   "cell_type": "code",
   "execution_count": 23,
   "id": "4f012394-da27-4c73-9815-64c75a94981e",
   "metadata": {},
   "outputs": [
    {
     "name": "stdout",
     "output_type": "stream",
     "text": [
      "angry completed\n",
      "disgust completed\n",
      "fear completed\n",
      "happy completed\n",
      "neutral completed\n",
      "sad completed\n",
      "surprise completed\n"
     ]
    }
   ],
   "source": [
    "test = pd.DataFrame()\n",
    "test['image'], test['label'] = createdataframe(TEST_DIR)"
   ]
  },
  {
   "cell_type": "code",
   "execution_count": 24,
   "id": "a4c60dbc-c435-4318-ae68-802d4c50f902",
   "metadata": {},
   "outputs": [
    {
     "name": "stdout",
     "output_type": "stream",
     "text": [
      "                              image     label\n",
      "0       images/test\\angry\\10052.jpg     angry\n",
      "1       images/test\\angry\\10065.jpg     angry\n",
      "2       images/test\\angry\\10079.jpg     angry\n",
      "3       images/test\\angry\\10095.jpg     angry\n",
      "4       images/test\\angry\\10121.jpg     angry\n",
      "...                             ...       ...\n",
      "7061  images/test\\surprise\\9806.jpg  surprise\n",
      "7062  images/test\\surprise\\9830.jpg  surprise\n",
      "7063  images/test\\surprise\\9853.jpg  surprise\n",
      "7064  images/test\\surprise\\9878.jpg  surprise\n",
      "7065   images/test\\surprise\\993.jpg  surprise\n",
      "\n",
      "[7066 rows x 2 columns]\n",
      "0         images/test\\angry\\10052.jpg\n",
      "1         images/test\\angry\\10065.jpg\n",
      "2         images/test\\angry\\10079.jpg\n",
      "3         images/test\\angry\\10095.jpg\n",
      "4         images/test\\angry\\10121.jpg\n",
      "                    ...              \n",
      "7061    images/test\\surprise\\9806.jpg\n",
      "7062    images/test\\surprise\\9830.jpg\n",
      "7063    images/test\\surprise\\9853.jpg\n",
      "7064    images/test\\surprise\\9878.jpg\n",
      "7065     images/test\\surprise\\993.jpg\n",
      "Name: image, Length: 7066, dtype: object\n"
     ]
    }
   ],
   "source": [
    "print(test)\n",
    "print(test['image'])"
   ]
  },
  {
   "cell_type": "code",
   "execution_count": 25,
   "id": "f958fa12-c062-4864-93ea-ce455495f3fe",
   "metadata": {},
   "outputs": [],
   "source": [
    "from tqdm.notebook import tqdm\n"
   ]
  },
  {
   "cell_type": "code",
   "execution_count": 26,
   "id": "5446b2ce-083b-441c-8569-282c6ac00aff",
   "metadata": {},
   "outputs": [],
   "source": [
    "def extract_features(images):\n",
    "    features = []\n",
    "    for image in tqdm(images):\n",
    "        img = load_img(image,grayscale =  True )\n",
    "        img = np.array(img)\n",
    "        features.append(img)\n",
    "    features = np.array(features)\n",
    "    features = features.reshape(len(features),48,48,1)\n",
    "    return features"
   ]
  },
  {
   "cell_type": "code",
   "execution_count": 27,
   "id": "f84608a8-becd-4197-9d06-49e61526493f",
   "metadata": {},
   "outputs": [
    {
     "data": {
      "application/vnd.jupyter.widget-view+json": {
       "model_id": "4f78b921079d4738aedc23a1f594cb60",
       "version_major": 2,
       "version_minor": 0
      },
      "text/plain": [
       "  0%|          | 0/28821 [00:00<?, ?it/s]"
      ]
     },
     "metadata": {},
     "output_type": "display_data"
    },
    {
     "name": "stderr",
     "output_type": "stream",
     "text": [
      "c:\\users\\ashis\\appdata\\local\\programs\\python\\python38\\lib\\site-packages\\keras\\src\\utils\\image_utils.py:409: UserWarning: grayscale is deprecated. Please use color_mode = \"grayscale\"\n",
      "  warnings.warn(\n"
     ]
    }
   ],
   "source": [
    "train_features = extract_features(train['image']) \n"
   ]
  },
  {
   "cell_type": "code",
   "execution_count": 28,
   "id": "0a3078d2-651c-4d05-8e9c-11ffcba2e854",
   "metadata": {},
   "outputs": [
    {
     "data": {
      "application/vnd.jupyter.widget-view+json": {
       "model_id": "49feb1693d5e45109f5f6cfc512f88a5",
       "version_major": 2,
       "version_minor": 0
      },
      "text/plain": [
       "  0%|          | 0/7066 [00:00<?, ?it/s]"
      ]
     },
     "metadata": {},
     "output_type": "display_data"
    }
   ],
   "source": [
    "test_features = extract_features(test['image'])\n"
   ]
  },
  {
   "cell_type": "code",
   "execution_count": 30,
   "id": "1004b7b5-7c41-4676-b32a-d2c3ae43d0aa",
   "metadata": {},
   "outputs": [],
   "source": [
    "x_train = train_features/255.0\n",
    "x_test = test_features/255.0"
   ]
  },
  {
   "cell_type": "code",
   "execution_count": 34,
   "id": "d2f89236-0a9b-4112-82b3-783323960c75",
   "metadata": {},
   "outputs": [
    {
     "name": "stdout",
     "output_type": "stream",
     "text": [
      "Note: you may need to restart the kernel to use updated packages.\n",
      "Collecting scikit-learn\n",
      "  Downloading scikit_learn-1.3.2-cp38-cp38-win_amd64.whl.metadata (11 kB)\n",
      "Requirement already satisfied: numpy<2.0,>=1.17.3 in c:\\users\\ashis\\appdata\\local\\programs\\python\\python38\\lib\\site-packages (from scikit-learn) (1.24.3)\n",
      "Collecting scipy>=1.5.0 (from scikit-learn)\n",
      "  Downloading scipy-1.10.1-cp38-cp38-win_amd64.whl (42.2 MB)\n",
      "     ---------------------------------------- 0.0/42.2 MB ? eta -:--:--\n",
      "     ---------------------------------------- 0.1/42.2 MB 3.3 MB/s eta 0:00:13\n",
      "     ---------------------------------------- 0.2/42.2 MB 2.5 MB/s eta 0:00:17\n",
      "     ---------------------------------------- 0.3/42.2 MB 2.5 MB/s eta 0:00:17\n",
      "     ---------------------------------------- 0.5/42.2 MB 2.7 MB/s eta 0:00:16\n",
      "      --------------------------------------- 0.8/42.2 MB 3.5 MB/s eta 0:00:12\n",
      "     - -------------------------------------- 1.1/42.2 MB 4.0 MB/s eta 0:00:11\n",
      "     - -------------------------------------- 1.4/42.2 MB 4.5 MB/s eta 0:00:10\n",
      "     - -------------------------------------- 1.7/42.2 MB 4.7 MB/s eta 0:00:09\n",
      "     - -------------------------------------- 2.0/42.2 MB 4.9 MB/s eta 0:00:09\n",
      "     -- ------------------------------------- 2.2/42.2 MB 4.7 MB/s eta 0:00:09\n",
      "     -- ------------------------------------- 2.4/42.2 MB 4.9 MB/s eta 0:00:09\n",
      "     -- ------------------------------------- 2.7/42.2 MB 4.8 MB/s eta 0:00:09\n",
      "     -- ------------------------------------- 3.0/42.2 MB 5.0 MB/s eta 0:00:08\n",
      "     --- ------------------------------------ 3.3/42.2 MB 5.2 MB/s eta 0:00:08\n",
      "     --- ------------------------------------ 3.5/42.2 MB 5.0 MB/s eta 0:00:08\n",
      "     --- ------------------------------------ 3.8/42.2 MB 5.2 MB/s eta 0:00:08\n",
      "     --- ------------------------------------ 4.1/42.2 MB 5.3 MB/s eta 0:00:08\n",
      "     ---- ----------------------------------- 4.4/42.2 MB 5.2 MB/s eta 0:00:08\n",
      "     ---- ----------------------------------- 4.4/42.2 MB 5.2 MB/s eta 0:00:08\n",
      "     ---- ----------------------------------- 4.4/42.2 MB 5.2 MB/s eta 0:00:08\n",
      "     ---- ----------------------------------- 4.4/42.2 MB 5.2 MB/s eta 0:00:08\n",
      "     ---- ----------------------------------- 4.4/42.2 MB 5.2 MB/s eta 0:00:08\n",
      "     ---- ----------------------------------- 4.4/42.2 MB 4.2 MB/s eta 0:00:10\n",
      "     ---- ----------------------------------- 4.4/42.2 MB 4.2 MB/s eta 0:00:10\n",
      "     ---- ----------------------------------- 4.4/42.2 MB 4.2 MB/s eta 0:00:10\n",
      "     ---- ----------------------------------- 5.2/42.2 MB 4.3 MB/s eta 0:00:09\n",
      "     ------ --------------------------------- 6.9/42.2 MB 5.4 MB/s eta 0:00:07\n",
      "     ------ --------------------------------- 7.2/42.2 MB 5.5 MB/s eta 0:00:07\n",
      "     ------- -------------------------------- 7.5/42.2 MB 5.5 MB/s eta 0:00:07\n",
      "     ------- -------------------------------- 7.8/42.2 MB 5.6 MB/s eta 0:00:07\n",
      "     ------- -------------------------------- 8.1/42.2 MB 5.6 MB/s eta 0:00:07\n",
      "     ------- -------------------------------- 8.4/42.2 MB 5.6 MB/s eta 0:00:07\n",
      "     -------- ------------------------------- 8.7/42.2 MB 5.6 MB/s eta 0:00:06\n",
      "     -------- ------------------------------- 9.0/42.2 MB 5.6 MB/s eta 0:00:06\n",
      "     -------- ------------------------------- 9.3/42.2 MB 5.6 MB/s eta 0:00:06\n",
      "     --------- ------------------------------ 9.6/42.2 MB 5.6 MB/s eta 0:00:06\n",
      "     --------- ------------------------------ 9.9/42.2 MB 5.6 MB/s eta 0:00:06\n",
      "     --------- ------------------------------ 10.1/42.2 MB 5.6 MB/s eta 0:00:06\n",
      "     --------- ------------------------------ 10.4/42.2 MB 5.8 MB/s eta 0:00:06\n",
      "     ---------- ----------------------------- 10.7/42.2 MB 5.9 MB/s eta 0:00:06\n",
      "     ---------- ----------------------------- 11.0/42.2 MB 6.0 MB/s eta 0:00:06\n",
      "     ---------- ----------------------------- 11.3/42.2 MB 6.0 MB/s eta 0:00:06\n",
      "     ---------- ----------------------------- 11.5/42.2 MB 5.9 MB/s eta 0:00:06\n",
      "     ----------- ---------------------------- 11.9/42.2 MB 5.9 MB/s eta 0:00:06\n",
      "     ----------- ---------------------------- 12.2/42.2 MB 6.0 MB/s eta 0:00:06\n",
      "     ----------- ---------------------------- 12.5/42.2 MB 6.0 MB/s eta 0:00:05\n",
      "     ------------ --------------------------- 12.7/42.2 MB 6.0 MB/s eta 0:00:05\n",
      "     ------------ --------------------------- 13.0/42.2 MB 6.1 MB/s eta 0:00:05\n",
      "     ------------ --------------------------- 13.3/42.2 MB 6.0 MB/s eta 0:00:05\n",
      "     ------------ --------------------------- 13.5/42.2 MB 6.0 MB/s eta 0:00:05\n",
      "     ------------- -------------------------- 13.8/42.2 MB 6.0 MB/s eta 0:00:05\n",
      "     ------------- -------------------------- 14.1/42.2 MB 6.0 MB/s eta 0:00:05\n",
      "     ------------- -------------------------- 14.4/42.2 MB 6.0 MB/s eta 0:00:05\n",
      "     ------------- -------------------------- 14.7/42.2 MB 7.5 MB/s eta 0:00:04\n",
      "     -------------- ------------------------- 14.9/42.2 MB 7.3 MB/s eta 0:00:04\n",
      "     -------------- ------------------------- 15.2/42.2 MB 7.1 MB/s eta 0:00:04\n",
      "     -------------- ------------------------- 15.5/42.2 MB 7.0 MB/s eta 0:00:04\n",
      "     -------------- ------------------------- 15.8/42.2 MB 6.7 MB/s eta 0:00:04\n",
      "     --------------- ------------------------ 16.1/42.2 MB 6.5 MB/s eta 0:00:04\n",
      "     --------------- ------------------------ 16.4/42.2 MB 6.4 MB/s eta 0:00:05\n",
      "     --------------- ------------------------ 16.7/42.2 MB 6.2 MB/s eta 0:00:05\n",
      "     ---------------- ----------------------- 17.0/42.2 MB 6.1 MB/s eta 0:00:05\n",
      "     ---------------- ----------------------- 17.3/42.2 MB 6.1 MB/s eta 0:00:05\n",
      "     ---------------- ----------------------- 17.6/42.2 MB 6.0 MB/s eta 0:00:05\n",
      "     ----------------- ---------------------- 18.0/42.2 MB 6.0 MB/s eta 0:00:05\n",
      "     ----------------- ---------------------- 18.3/42.2 MB 6.0 MB/s eta 0:00:04\n",
      "     ----------------- ---------------------- 18.6/42.2 MB 6.0 MB/s eta 0:00:04\n",
      "     ----------------- ---------------------- 18.9/42.2 MB 6.0 MB/s eta 0:00:04\n",
      "     ------------------ --------------------- 19.2/42.2 MB 6.1 MB/s eta 0:00:04\n",
      "     ------------------ --------------------- 19.5/42.2 MB 6.1 MB/s eta 0:00:04\n",
      "     ------------------ --------------------- 19.9/42.2 MB 6.1 MB/s eta 0:00:04\n",
      "     ------------------- -------------------- 20.2/42.2 MB 6.0 MB/s eta 0:00:04\n",
      "     ------------------- -------------------- 20.5/42.2 MB 6.1 MB/s eta 0:00:04\n",
      "     ------------------- -------------------- 20.8/42.2 MB 6.1 MB/s eta 0:00:04\n",
      "     ------------------- -------------------- 21.1/42.2 MB 6.1 MB/s eta 0:00:04\n",
      "     -------------------- ------------------- 21.3/42.2 MB 6.1 MB/s eta 0:00:04\n",
      "     -------------------- ------------------- 21.5/42.2 MB 6.0 MB/s eta 0:00:04\n",
      "     -------------------- ------------------- 21.5/42.2 MB 5.8 MB/s eta 0:00:04\n",
      "     --------------------- ------------------ 22.2/42.2 MB 6.1 MB/s eta 0:00:04\n",
      "     --------------------- ------------------ 22.5/42.2 MB 6.1 MB/s eta 0:00:04\n",
      "     --------------------- ------------------ 22.8/42.2 MB 6.0 MB/s eta 0:00:04\n",
      "     --------------------- ------------------ 23.1/42.2 MB 6.0 MB/s eta 0:00:04\n",
      "     ---------------------- ----------------- 23.3/42.2 MB 6.0 MB/s eta 0:00:04\n",
      "     ---------------------- ----------------- 23.6/42.2 MB 6.1 MB/s eta 0:00:04\n",
      "     ---------------------- ----------------- 23.9/42.2 MB 6.0 MB/s eta 0:00:04\n",
      "     ---------------------- ----------------- 24.2/42.2 MB 6.1 MB/s eta 0:00:03\n",
      "     ----------------------- ---------------- 24.5/42.2 MB 6.1 MB/s eta 0:00:03\n",
      "     ----------------------- ---------------- 24.7/42.2 MB 6.1 MB/s eta 0:00:03\n",
      "     ----------------------- ---------------- 25.1/42.2 MB 6.0 MB/s eta 0:00:03\n",
      "     ------------------------ --------------- 25.3/42.2 MB 6.1 MB/s eta 0:00:03\n",
      "     ------------------------ --------------- 25.6/42.2 MB 6.1 MB/s eta 0:00:03\n",
      "     ------------------------ --------------- 25.9/42.2 MB 6.0 MB/s eta 0:00:03\n",
      "     ------------------------ --------------- 26.2/42.2 MB 6.1 MB/s eta 0:00:03\n",
      "     ------------------------- -------------- 26.5/42.2 MB 6.1 MB/s eta 0:00:03\n",
      "     ------------------------- -------------- 26.8/42.2 MB 6.0 MB/s eta 0:00:03\n",
      "     ------------------------- -------------- 27.1/42.2 MB 6.0 MB/s eta 0:00:03\n",
      "     ------------------------- -------------- 27.2/42.2 MB 5.9 MB/s eta 0:00:03\n",
      "     -------------------------- ------------- 27.8/42.2 MB 6.1 MB/s eta 0:00:03\n",
      "     -------------------------- ------------- 28.1/42.2 MB 6.1 MB/s eta 0:00:03\n",
      "     -------------------------- ------------- 28.4/42.2 MB 6.1 MB/s eta 0:00:03\n",
      "     --------------------------- ------------ 28.6/42.2 MB 6.1 MB/s eta 0:00:03\n",
      "     --------------------------- ------------ 29.0/42.2 MB 6.1 MB/s eta 0:00:03\n",
      "     --------------------------- ------------ 29.2/42.2 MB 6.1 MB/s eta 0:00:03\n",
      "     --------------------------- ------------ 29.5/42.2 MB 6.1 MB/s eta 0:00:03\n",
      "     ---------------------------- ----------- 29.8/42.2 MB 6.2 MB/s eta 0:00:03\n",
      "     ---------------------------- ----------- 30.0/42.2 MB 6.1 MB/s eta 0:00:03\n",
      "     ---------------------------- ----------- 30.4/42.2 MB 6.1 MB/s eta 0:00:02\n",
      "     ----------------------------- ---------- 30.6/42.2 MB 6.1 MB/s eta 0:00:02\n",
      "     ----------------------------- ---------- 30.9/42.2 MB 6.1 MB/s eta 0:00:02\n",
      "     ----------------------------- ---------- 31.1/42.2 MB 6.1 MB/s eta 0:00:02\n",
      "     ----------------------------- ---------- 31.5/42.2 MB 6.1 MB/s eta 0:00:02\n",
      "     ------------------------------ --------- 31.8/42.2 MB 6.4 MB/s eta 0:00:02\n",
      "     ------------------------------ --------- 32.1/42.2 MB 6.2 MB/s eta 0:00:02\n",
      "     ------------------------------ --------- 32.2/42.2 MB 6.2 MB/s eta 0:00:02\n",
      "     ------------------------------ --------- 32.2/42.2 MB 6.2 MB/s eta 0:00:02\n",
      "     ------------------------------ --------- 32.2/42.2 MB 6.2 MB/s eta 0:00:02\n",
      "     ------------------------------ --------- 32.2/42.2 MB 6.2 MB/s eta 0:00:02\n",
      "     ------------------------------ --------- 32.2/42.2 MB 6.2 MB/s eta 0:00:02\n",
      "     ------------------------------- -------- 32.8/42.2 MB 5.6 MB/s eta 0:00:02\n",
      "     ------------------------------- -------- 33.3/42.2 MB 5.7 MB/s eta 0:00:02\n",
      "     -------------------------------- ------- 34.3/42.2 MB 6.1 MB/s eta 0:00:02\n",
      "     -------------------------------- ------- 34.6/42.2 MB 6.1 MB/s eta 0:00:02\n",
      "     -------------------------------- ------- 34.8/42.2 MB 6.1 MB/s eta 0:00:02\n",
      "     --------------------------------- ------ 35.1/42.2 MB 6.1 MB/s eta 0:00:02\n",
      "     --------------------------------- ------ 35.4/42.2 MB 6.1 MB/s eta 0:00:02\n",
      "     --------------------------------- ------ 35.7/42.2 MB 6.1 MB/s eta 0:00:02\n",
      "     ---------------------------------- ----- 36.0/42.2 MB 6.1 MB/s eta 0:00:02\n",
      "     ---------------------------------- ----- 36.3/42.2 MB 6.1 MB/s eta 0:00:01\n",
      "     ---------------------------------- ----- 36.5/42.2 MB 6.1 MB/s eta 0:00:01\n",
      "     ---------------------------------- ----- 36.8/42.2 MB 6.1 MB/s eta 0:00:01\n",
      "     ----------------------------------- ---- 37.1/42.2 MB 6.0 MB/s eta 0:00:01\n",
      "     ----------------------------------- ---- 37.4/42.2 MB 6.1 MB/s eta 0:00:01\n",
      "     ----------------------------------- ---- 37.4/42.2 MB 6.1 MB/s eta 0:00:01\n",
      "     ------------------------------------ --- 38.1/42.2 MB 6.1 MB/s eta 0:00:01\n",
      "     ------------------------------------ --- 38.3/42.2 MB 6.1 MB/s eta 0:00:01\n",
      "     ------------------------------------ --- 38.6/42.2 MB 6.1 MB/s eta 0:00:01\n",
      "     ------------------------------------ --- 38.9/42.2 MB 6.1 MB/s eta 0:00:01\n",
      "     ------------------------------------- -- 39.1/42.2 MB 6.0 MB/s eta 0:00:01\n",
      "     ------------------------------------- -- 39.5/42.2 MB 6.0 MB/s eta 0:00:01\n",
      "     ------------------------------------- -- 39.6/42.2 MB 6.0 MB/s eta 0:00:01\n",
      "     ------------------------------------- -- 40.0/42.2 MB 6.0 MB/s eta 0:00:01\n",
      "     -------------------------------------- - 40.2/42.2 MB 6.0 MB/s eta 0:00:01\n",
      "     -------------------------------------- - 40.7/42.2 MB 6.0 MB/s eta 0:00:01\n",
      "     -------------------------------------- - 40.9/42.2 MB 6.0 MB/s eta 0:00:01\n",
      "     -------------------------------------- - 41.2/42.2 MB 6.0 MB/s eta 0:00:01\n",
      "     -------------------------------------- - 41.2/42.2 MB 6.0 MB/s eta 0:00:01\n",
      "     ---------------------------------------  41.8/42.2 MB 6.1 MB/s eta 0:00:01\n",
      "     ---------------------------------------  42.1/42.2 MB 6.1 MB/s eta 0:00:01\n",
      "     ---------------------------------------  42.2/42.2 MB 6.0 MB/s eta 0:00:01\n",
      "     ---------------------------------------  42.2/42.2 MB 6.0 MB/s eta 0:00:01\n",
      "     ---------------------------------------  42.2/42.2 MB 6.0 MB/s eta 0:00:01\n",
      "     ---------------------------------------  42.2/42.2 MB 6.0 MB/s eta 0:00:01\n",
      "     ---------------------------------------  42.2/42.2 MB 6.0 MB/s eta 0:00:01\n",
      "     ---------------------------------------  42.2/42.2 MB 6.0 MB/s eta 0:00:01\n",
      "     ---------------------------------------  42.2/42.2 MB 6.0 MB/s eta 0:00:01\n",
      "     ---------------------------------------  42.2/42.2 MB 6.0 MB/s eta 0:00:01\n",
      "     ---------------------------------------  42.2/42.2 MB 6.0 MB/s eta 0:00:01\n",
      "     ---------------------------------------  42.2/42.2 MB 6.0 MB/s eta 0:00:01\n",
      "     ---------------------------------------  42.2/42.2 MB 6.0 MB/s eta 0:00:01\n",
      "     ---------------------------------------  42.2/42.2 MB 6.0 MB/s eta 0:00:01\n",
      "     ---------------------------------------  42.2/42.2 MB 6.0 MB/s eta 0:00:01\n",
      "     ---------------------------------------  42.2/42.2 MB 6.0 MB/s eta 0:00:01\n",
      "     ---------------------------------------  42.2/42.2 MB 6.0 MB/s eta 0:00:01\n",
      "     ---------------------------------------  42.2/42.2 MB 6.0 MB/s eta 0:00:01\n",
      "     ---------------------------------------  42.2/42.2 MB 6.0 MB/s eta 0:00:01\n",
      "     ---------------------------------------  42.2/42.2 MB 6.0 MB/s eta 0:00:01\n",
      "     ---------------------------------------  42.2/42.2 MB 6.0 MB/s eta 0:00:01\n",
      "     ---------------------------------------  42.2/42.2 MB 6.0 MB/s eta 0:00:01\n",
      "     ---------------------------------------  42.2/42.2 MB 6.0 MB/s eta 0:00:01\n",
      "     ---------------------------------------  42.2/42.2 MB 6.0 MB/s eta 0:00:01\n",
      "     ---------------------------------------  42.2/42.2 MB 6.0 MB/s eta 0:00:01\n",
      "     ---------------------------------------  42.2/42.2 MB 6.0 MB/s eta 0:00:01\n",
      "     ---------------------------------------  42.2/42.2 MB 6.0 MB/s eta 0:00:01\n",
      "     ---------------------------------------  42.2/42.2 MB 6.0 MB/s eta 0:00:01\n",
      "     ---------------------------------------  42.2/42.2 MB 6.0 MB/s eta 0:00:01\n",
      "     ---------------------------------------  42.2/42.2 MB 6.0 MB/s eta 0:00:01\n",
      "     ---------------------------------------  42.2/42.2 MB 6.0 MB/s eta 0:00:01\n",
      "     ---------------------------------------  42.2/42.2 MB 6.0 MB/s eta 0:00:01\n",
      "     ---------------------------------------  42.2/42.2 MB 6.0 MB/s eta 0:00:01\n",
      "     ---------------------------------------  42.2/42.2 MB 6.0 MB/s eta 0:00:01\n",
      "     ---------------------------------------  42.2/42.2 MB 6.0 MB/s eta 0:00:01\n",
      "     ---------------------------------------  42.2/42.2 MB 6.0 MB/s eta 0:00:01\n",
      "     ---------------------------------------  42.2/42.2 MB 6.0 MB/s eta 0:00:01\n",
      "     ---------------------------------------  42.2/42.2 MB 6.0 MB/s eta 0:00:01\n",
      "     ---------------------------------------  42.2/42.2 MB 6.0 MB/s eta 0:00:01\n",
      "     ---------------------------------------  42.2/42.2 MB 6.0 MB/s eta 0:00:01\n",
      "     ---------------------------------------  42.2/42.2 MB 6.0 MB/s eta 0:00:01\n",
      "     ---------------------------------------  42.2/42.2 MB 6.0 MB/s eta 0:00:01\n",
      "     ---------------------------------------  42.2/42.2 MB 6.0 MB/s eta 0:00:01\n",
      "     ---------------------------------------  42.2/42.2 MB 6.0 MB/s eta 0:00:01\n",
      "     ---------------------------------------  42.2/42.2 MB 6.0 MB/s eta 0:00:01\n",
      "     ---------------------------------------  42.2/42.2 MB 6.0 MB/s eta 0:00:01\n",
      "     ---------------------------------------  42.2/42.2 MB 6.0 MB/s eta 0:00:01\n",
      "     ---------------------------------------  42.2/42.2 MB 6.0 MB/s eta 0:00:01\n",
      "     ---------------------------------------  42.2/42.2 MB 6.0 MB/s eta 0:00:01\n",
      "     ---------------------------------------  42.2/42.2 MB 6.0 MB/s eta 0:00:01\n",
      "     ---------------------------------------  42.2/42.2 MB 6.0 MB/s eta 0:00:01\n",
      "     ---------------------------------------  42.2/42.2 MB 6.0 MB/s eta 0:00:01\n",
      "     ---------------------------------------  42.2/42.2 MB 6.0 MB/s eta 0:00:01\n",
      "     ---------------------------------------  42.2/42.2 MB 6.0 MB/s eta 0:00:01\n",
      "     ---------------------------------------  42.2/42.2 MB 6.0 MB/s eta 0:00:01\n",
      "     ---------------------------------------  42.2/42.2 MB 6.0 MB/s eta 0:00:01\n",
      "     ---------------------------------------  42.2/42.2 MB 6.0 MB/s eta 0:00:01\n",
      "     ---------------------------------------  42.2/42.2 MB 6.0 MB/s eta 0:00:01\n",
      "     ---------------------------------------  42.2/42.2 MB 6.0 MB/s eta 0:00:01\n",
      "     ---------------------------------------  42.2/42.2 MB 6.0 MB/s eta 0:00:01\n",
      "     ---------------------------------------  42.2/42.2 MB 6.0 MB/s eta 0:00:01\n",
      "     ---------------------------------------  42.2/42.2 MB 6.0 MB/s eta 0:00:01\n",
      "     ---------------------------------------- 42.2/42.2 MB 2.3 MB/s eta 0:00:00\n",
      "Collecting joblib>=1.1.1 (from scikit-learn)\n",
      "  Downloading joblib-1.3.2-py3-none-any.whl.metadata (5.4 kB)\n",
      "Collecting threadpoolctl>=2.0.0 (from scikit-learn)\n",
      "  Downloading threadpoolctl-3.2.0-py3-none-any.whl.metadata (10.0 kB)\n",
      "Downloading scikit_learn-1.3.2-cp38-cp38-win_amd64.whl (9.3 MB)\n",
      "   ---------------------------------------- 0.0/9.3 MB ? eta -:--:--\n",
      "   - -------------------------------------- 0.3/9.3 MB 8.9 MB/s eta 0:00:02\n",
      "   -- ------------------------------------- 0.6/9.3 MB 6.1 MB/s eta 0:00:02\n",
      "   --- ------------------------------------ 0.9/9.3 MB 6.8 MB/s eta 0:00:02\n",
      "   ---- ----------------------------------- 1.1/9.3 MB 6.5 MB/s eta 0:00:02\n",
      "   ------ --------------------------------- 1.4/9.3 MB 6.4 MB/s eta 0:00:02\n",
      "   ------- -------------------------------- 1.7/9.3 MB 6.4 MB/s eta 0:00:02\n",
      "   -------- ------------------------------- 2.0/9.3 MB 6.3 MB/s eta 0:00:02\n",
      "   --------- ------------------------------ 2.3/9.3 MB 6.3 MB/s eta 0:00:02\n",
      "   ---------- ----------------------------- 2.5/9.3 MB 6.0 MB/s eta 0:00:02\n",
      "   ------------ --------------------------- 2.8/9.3 MB 6.3 MB/s eta 0:00:02\n",
      "   ------------- -------------------------- 3.1/9.3 MB 6.2 MB/s eta 0:00:01\n",
      "   -------------- ------------------------- 3.4/9.3 MB 6.2 MB/s eta 0:00:01\n",
      "   --------------- ------------------------ 3.7/9.3 MB 6.2 MB/s eta 0:00:01\n",
      "   ----------------- ---------------------- 4.0/9.3 MB 6.2 MB/s eta 0:00:01\n",
      "   ------------------ --------------------- 4.3/9.3 MB 6.2 MB/s eta 0:00:01\n",
      "   ------------------- -------------------- 4.5/9.3 MB 6.1 MB/s eta 0:00:01\n",
      "   -------------------- ------------------- 4.8/9.3 MB 6.2 MB/s eta 0:00:01\n",
      "   ---------------------- ----------------- 5.1/9.3 MB 6.1 MB/s eta 0:00:01\n",
      "   ----------------------- ---------------- 5.4/9.3 MB 6.0 MB/s eta 0:00:01\n",
      "   ------------------------ --------------- 5.7/9.3 MB 6.1 MB/s eta 0:00:01\n",
      "   ------------------------- -------------- 6.0/9.3 MB 6.2 MB/s eta 0:00:01\n",
      "   --------------------------- ------------ 6.3/9.3 MB 6.2 MB/s eta 0:00:01\n",
      "   ---------------------------- ----------- 6.6/9.3 MB 6.2 MB/s eta 0:00:01\n",
      "   ----------------------------- ---------- 6.9/9.3 MB 6.2 MB/s eta 0:00:01\n",
      "   ------------------------------ --------- 7.1/9.3 MB 6.2 MB/s eta 0:00:01\n",
      "   -------------------------------- ------- 7.5/9.3 MB 6.1 MB/s eta 0:00:01\n",
      "   --------------------------------- ------ 7.8/9.3 MB 6.1 MB/s eta 0:00:01\n",
      "   ---------------------------------- ----- 8.1/9.3 MB 6.1 MB/s eta 0:00:01\n",
      "   ----------------------------------- ---- 8.3/9.3 MB 6.1 MB/s eta 0:00:01\n",
      "   ------------------------------------- -- 8.6/9.3 MB 6.1 MB/s eta 0:00:01\n",
      "   -------------------------------------- - 8.9/9.3 MB 6.1 MB/s eta 0:00:01\n",
      "   ---------------------------------------  9.2/9.3 MB 6.1 MB/s eta 0:00:01\n",
      "   ---------------------------------------  9.3/9.3 MB 6.1 MB/s eta 0:00:01\n",
      "   ---------------------------------------  9.3/9.3 MB 6.1 MB/s eta 0:00:01\n",
      "   ---------------------------------------  9.3/9.3 MB 6.1 MB/s eta 0:00:01\n",
      "   ---------------------------------------  9.3/9.3 MB 6.1 MB/s eta 0:00:01\n",
      "   ---------------------------------------  9.3/9.3 MB 6.1 MB/s eta 0:00:01\n",
      "   ---------------------------------------- 9.3/9.3 MB 5.2 MB/s eta 0:00:00\n",
      "Downloading joblib-1.3.2-py3-none-any.whl (302 kB)\n",
      "   ---------------------------------------- 0.0/302.2 kB ? eta -:--:--\n",
      "   ---------------------------------------  297.0/302.2 kB 9.2 MB/s eta 0:00:01\n",
      "   ---------------------------------------  297.0/302.2 kB 9.2 MB/s eta 0:00:01\n",
      "   ---------------------------------------- 302.2/302.2 kB 3.1 MB/s eta 0:00:00\n",
      "Downloading threadpoolctl-3.2.0-py3-none-any.whl (15 kB)\n",
      "Installing collected packages: threadpoolctl, scipy, joblib, scikit-learn\n",
      "Successfully installed joblib-1.3.2 scikit-learn-1.3.2 scipy-1.10.1 threadpoolctl-3.2.0\n"
     ]
    }
   ],
   "source": [
    "pip install -U scikit-learn\n"
   ]
  },
  {
   "cell_type": "code",
   "execution_count": 35,
   "id": "0ead4b07-d267-4bd1-8d28-9f557927c7da",
   "metadata": {},
   "outputs": [],
   "source": [
    "from sklearn.preprocessing import LabelEncoder\n"
   ]
  },
  {
   "cell_type": "code",
   "execution_count": 36,
   "id": "6613b69b-586a-4f60-9c54-260b0828c7ae",
   "metadata": {},
   "outputs": [
    {
     "data": {
      "text/html": [
       "<style>#sk-container-id-1 {color: black;}#sk-container-id-1 pre{padding: 0;}#sk-container-id-1 div.sk-toggleable {background-color: white;}#sk-container-id-1 label.sk-toggleable__label {cursor: pointer;display: block;width: 100%;margin-bottom: 0;padding: 0.3em;box-sizing: border-box;text-align: center;}#sk-container-id-1 label.sk-toggleable__label-arrow:before {content: \"▸\";float: left;margin-right: 0.25em;color: #696969;}#sk-container-id-1 label.sk-toggleable__label-arrow:hover:before {color: black;}#sk-container-id-1 div.sk-estimator:hover label.sk-toggleable__label-arrow:before {color: black;}#sk-container-id-1 div.sk-toggleable__content {max-height: 0;max-width: 0;overflow: hidden;text-align: left;background-color: #f0f8ff;}#sk-container-id-1 div.sk-toggleable__content pre {margin: 0.2em;color: black;border-radius: 0.25em;background-color: #f0f8ff;}#sk-container-id-1 input.sk-toggleable__control:checked~div.sk-toggleable__content {max-height: 200px;max-width: 100%;overflow: auto;}#sk-container-id-1 input.sk-toggleable__control:checked~label.sk-toggleable__label-arrow:before {content: \"▾\";}#sk-container-id-1 div.sk-estimator input.sk-toggleable__control:checked~label.sk-toggleable__label {background-color: #d4ebff;}#sk-container-id-1 div.sk-label input.sk-toggleable__control:checked~label.sk-toggleable__label {background-color: #d4ebff;}#sk-container-id-1 input.sk-hidden--visually {border: 0;clip: rect(1px 1px 1px 1px);clip: rect(1px, 1px, 1px, 1px);height: 1px;margin: -1px;overflow: hidden;padding: 0;position: absolute;width: 1px;}#sk-container-id-1 div.sk-estimator {font-family: monospace;background-color: #f0f8ff;border: 1px dotted black;border-radius: 0.25em;box-sizing: border-box;margin-bottom: 0.5em;}#sk-container-id-1 div.sk-estimator:hover {background-color: #d4ebff;}#sk-container-id-1 div.sk-parallel-item::after {content: \"\";width: 100%;border-bottom: 1px solid gray;flex-grow: 1;}#sk-container-id-1 div.sk-label:hover label.sk-toggleable__label {background-color: #d4ebff;}#sk-container-id-1 div.sk-serial::before {content: \"\";position: absolute;border-left: 1px solid gray;box-sizing: border-box;top: 0;bottom: 0;left: 50%;z-index: 0;}#sk-container-id-1 div.sk-serial {display: flex;flex-direction: column;align-items: center;background-color: white;padding-right: 0.2em;padding-left: 0.2em;position: relative;}#sk-container-id-1 div.sk-item {position: relative;z-index: 1;}#sk-container-id-1 div.sk-parallel {display: flex;align-items: stretch;justify-content: center;background-color: white;position: relative;}#sk-container-id-1 div.sk-item::before, #sk-container-id-1 div.sk-parallel-item::before {content: \"\";position: absolute;border-left: 1px solid gray;box-sizing: border-box;top: 0;bottom: 0;left: 50%;z-index: -1;}#sk-container-id-1 div.sk-parallel-item {display: flex;flex-direction: column;z-index: 1;position: relative;background-color: white;}#sk-container-id-1 div.sk-parallel-item:first-child::after {align-self: flex-end;width: 50%;}#sk-container-id-1 div.sk-parallel-item:last-child::after {align-self: flex-start;width: 50%;}#sk-container-id-1 div.sk-parallel-item:only-child::after {width: 0;}#sk-container-id-1 div.sk-dashed-wrapped {border: 1px dashed gray;margin: 0 0.4em 0.5em 0.4em;box-sizing: border-box;padding-bottom: 0.4em;background-color: white;}#sk-container-id-1 div.sk-label label {font-family: monospace;font-weight: bold;display: inline-block;line-height: 1.2em;}#sk-container-id-1 div.sk-label-container {text-align: center;}#sk-container-id-1 div.sk-container {/* jupyter's `normalize.less` sets `[hidden] { display: none; }` but bootstrap.min.css set `[hidden] { display: none !important; }` so we also need the `!important` here to be able to override the default hidden behavior on the sphinx rendered scikit-learn.org. See: https://github.com/scikit-learn/scikit-learn/issues/21755 */display: inline-block !important;position: relative;}#sk-container-id-1 div.sk-text-repr-fallback {display: none;}</style><div id=\"sk-container-id-1\" class=\"sk-top-container\"><div class=\"sk-text-repr-fallback\"><pre>LabelEncoder()</pre><b>In a Jupyter environment, please rerun this cell to show the HTML representation or trust the notebook. <br />On GitHub, the HTML representation is unable to render, please try loading this page with nbviewer.org.</b></div><div class=\"sk-container\" hidden><div class=\"sk-item\"><div class=\"sk-estimator sk-toggleable\"><input class=\"sk-toggleable__control sk-hidden--visually\" id=\"sk-estimator-id-1\" type=\"checkbox\" checked><label for=\"sk-estimator-id-1\" class=\"sk-toggleable__label sk-toggleable__label-arrow\">LabelEncoder</label><div class=\"sk-toggleable__content\"><pre>LabelEncoder()</pre></div></div></div></div></div>"
      ],
      "text/plain": [
       "LabelEncoder()"
      ]
     },
     "execution_count": 36,
     "metadata": {},
     "output_type": "execute_result"
    }
   ],
   "source": [
    "le = LabelEncoder()\n",
    "le.fit(train['label'])"
   ]
  },
  {
   "cell_type": "code",
   "execution_count": 37,
   "id": "8396194a-9a06-48be-b6e2-a6363202ba89",
   "metadata": {},
   "outputs": [],
   "source": [
    "y_train = le.transform(train['label'])\n",
    "y_test = le.transform(test['label'])"
   ]
  },
  {
   "cell_type": "code",
   "execution_count": 38,
   "id": "090b1379-e259-4e71-a8d1-0ca629642411",
   "metadata": {},
   "outputs": [],
   "source": [
    "y_train = to_categorical(y_train,num_classes = 7)\n",
    "y_test = to_categorical(y_test,num_classes = 7)"
   ]
  },
  {
   "cell_type": "code",
   "execution_count": 39,
   "id": "86858502-b22e-4597-b4e5-bd8bfe56b06d",
   "metadata": {},
   "outputs": [],
   "source": [
    "test = to_categorical(y_test,num_classes = 7)\n",
    "model = Sequential()\n",
    "# convolutional layers\n",
    "model.add(Conv2D(128, kernel_size=(3,3), activation='relu', input_shape=(48,48,1)))\n",
    "model.add(MaxPooling2D(pool_size=(2,2)))\n",
    "model.add(Dropout(0.4))\n",
    "\n",
    "model.add(Conv2D(256, kernel_size=(3,3), activation='relu'))\n",
    "model.add(MaxPooling2D(pool_size=(2,2)))\n",
    "model.add(Dropout(0.4))\n",
    "\n",
    "model.add(Conv2D(512, kernel_size=(3,3), activation='relu'))\n",
    "model.add(MaxPooling2D(pool_size=(2,2)))\n",
    "model.add(Dropout(0.4))\n",
    "\n",
    "model.add(Conv2D(512, kernel_size=(3,3), activation='relu'))\n",
    "model.add(MaxPooling2D(pool_size=(2,2)))\n",
    "model.add(Dropout(0.4))\n",
    "\n",
    "model.add(Flatten())\n",
    "# fully connected layers\n",
    "model.add(Dense(512, activation='relu'))\n",
    "model.add(Dropout(0.4))\n",
    "model.add(Dense(256, activation='relu'))\n",
    "model.add(Dropout(0.3))\n",
    "# output layer\n",
    "model.add(Dense(7, activation='softmax'))"
   ]
  },
  {
   "cell_type": "code",
   "execution_count": 40,
   "id": "92ab491c-613b-424c-b225-be22a9a7a047",
   "metadata": {},
   "outputs": [],
   "source": [
    "model.compile(optimizer = 'adam', loss = 'categorical_crossentropy', metrics = 'accuracy' )\n"
   ]
  },
  {
   "cell_type": "code",
   "execution_count": 41,
   "id": "51fc9b8e-ea24-48a7-a383-659ef2cce355",
   "metadata": {},
   "outputs": [
    {
     "name": "stdout",
     "output_type": "stream",
     "text": [
      "Epoch 1/100\n",
      " 24/226 [==>...........................] - ETA: 18:50 - loss: 1.8532 - accuracy: 0.2223"
     ]
    },
    {
     "name": "stderr",
     "output_type": "stream",
     "text": [
      "\n",
      "KeyboardInterrupt\n",
      "\n"
     ]
    }
   ],
   "source": [
    "model.fit(x= x_train,y = y_train, batch_size = 128, epochs = 100, validation_data = (x_test,y_test)) \n"
   ]
  },
  {
   "cell_type": "code",
   "execution_count": 42,
   "id": "1382a538-fe61-48bf-b4cb-63326e764f82",
   "metadata": {},
   "outputs": [
    {
     "name": "stderr",
     "output_type": "stream",
     "text": [
      "c:\\users\\ashis\\appdata\\local\\programs\\python\\python38\\lib\\site-packages\\keras\\src\\engine\\training.py:3000: UserWarning: You are saving your model as an HDF5 file via `model.save()`. This file format is considered legacy. We recommend using instead the native Keras format, e.g. `model.save('my_model.keras')`.\n",
      "  saving_api.save_model(\n"
     ]
    }
   ],
   "source": [
    "model_json = model.to_json()\n",
    "with open(\"emotiondetector.json\",'w') as json_file:\n",
    "    json_file.write(model_json)\n",
    "model.save(\"emotiondetector.h5\")"
   ]
  },
  {
   "cell_type": "code",
   "execution_count": 43,
   "id": "7a3a1c18-d935-43ac-b39c-54ffdd8e9aa0",
   "metadata": {},
   "outputs": [],
   "source": [
    "from keras.models import model_from_json\n"
   ]
  },
  {
   "cell_type": "code",
   "execution_count": 44,
   "id": "2a008e68-df65-481a-92c3-5701e65fcb52",
   "metadata": {},
   "outputs": [],
   "source": [
    "json_file = open(\"emotiondetector.json\", \"r\")\n",
    "model_json = json_file.read()\n",
    "json_file.close()\n",
    "model = model_from_json(model_json)\n",
    "model.load_weights(\"emotiondetector.h5\")"
   ]
  },
  {
   "cell_type": "code",
   "execution_count": 45,
   "id": "409b3981-ea43-4b63-abbc-92cf0c7e3feb",
   "metadata": {},
   "outputs": [],
   "source": [
    "label = ['angry','disgust','fear','happy','neutral','sad','surprise']\n"
   ]
  },
  {
   "cell_type": "code",
   "execution_count": 46,
   "id": "191b5396-240e-4963-ab45-201a8f84cfa7",
   "metadata": {},
   "outputs": [],
   "source": [
    "def ef(image):\n",
    "    img = load_img(image,grayscale =  True )\n",
    "    feature = np.array(img)\n",
    "    feature = feature.reshape(1,48,48,1)\n",
    "    return feature/255.0"
   ]
  },
  {
   "cell_type": "code",
   "execution_count": 47,
   "id": "e2d51e0a-ea85-41c2-b190-0e58032866d4",
   "metadata": {},
   "outputs": [
    {
     "name": "stdout",
     "output_type": "stream",
     "text": [
      "original image is of sad\n"
     ]
    },
    {
     "name": "stderr",
     "output_type": "stream",
     "text": [
      "c:\\users\\ashis\\appdata\\local\\programs\\python\\python38\\lib\\site-packages\\keras\\src\\utils\\image_utils.py:409: UserWarning: grayscale is deprecated. Please use color_mode = \"grayscale\"\n",
      "  warnings.warn(\n"
     ]
    },
    {
     "name": "stdout",
     "output_type": "stream",
     "text": [
      "1/1 [==============================] - 2s 2s/step\n",
      "model prediction is  sad\n"
     ]
    }
   ],
   "source": [
    "image = 'images/train/sad/42.jpg'\n",
    "print(\"original image is of sad\")\n",
    "img = ef(image)\n",
    "pred = model.predict(img)\n",
    "pred_label = label[pred.argmax()]\n",
    "print(\"model prediction is \",pred_label)"
   ]
  },
  {
   "cell_type": "code",
   "execution_count": 48,
   "id": "485e686f-aade-4080-9daf-fb81d8395958",
   "metadata": {},
   "outputs": [],
   "source": [
    "import matplotlib.pyplot as plt\n",
    "%matplotlib inline"
   ]
  },
  {
   "cell_type": "code",
   "execution_count": 49,
   "id": "c54f60c8-1260-4aa4-b8d8-a68e96ea6dbb",
   "metadata": {},
   "outputs": [
    {
     "name": "stdout",
     "output_type": "stream",
     "text": [
      "original image is of sad\n"
     ]
    },
    {
     "name": "stderr",
     "output_type": "stream",
     "text": [
      "c:\\users\\ashis\\appdata\\local\\programs\\python\\python38\\lib\\site-packages\\keras\\src\\utils\\image_utils.py:409: UserWarning: grayscale is deprecated. Please use color_mode = \"grayscale\"\n",
      "  warnings.warn(\n"
     ]
    },
    {
     "name": "stdout",
     "output_type": "stream",
     "text": [
      "1/1 [==============================] - 0s 108ms/step\n",
      "model prediction is  sad\n"
     ]
    },
    {
     "data": {
      "text/plain": [
       "<matplotlib.image.AxesImage at 0x18b4e88a100>"
      ]
     },
     "execution_count": 49,
     "metadata": {},
     "output_type": "execute_result"
    },
    {
     "data": {
      "image/png": "[encoded data removed]",
      "text/plain": [
       "<Figure size 640x480 with 1 Axes>"
      ]
     },
     "metadata": {},
     "output_type": "display_data"
    }
   ],
   "source": [
    "image = 'images/train/sad/42.jpg'\n",
    "print(\"original image is of sad\")\n",
    "img = ef(image)\n",
    "pred = model.predict(img)\n",
    "pred_label = label[pred.argmax()]\n",
    "print(\"model prediction is \",pred_label)\n",
    "plt.imshow(img.reshape(48,48),cmap='gray')"
   ]
  },
  {
   "cell_type": "code",
   "execution_count": null,
   "id": "3b732e4f-cd02-4cce-835b-2598824438d5",
   "metadata": {},
   "outputs": [],
   "source": []
  }
 ],
 "metadata": {
  "kernelspec": {
   "display_name": "Python 3 (ipykernel)",
   "language": "python",
   "name": "python3"
  },
  "language_info": {
   "codemirror_mode": {
    "name": "ipython",
    "version": 3
   },
   "file_extension": ".py",
   "mimetype": "text/x-python",
   "name": "python",
   "nbconvert_exporter": "python",
   "pygments_lexer": "ipython3",
   "version": "3.8.0"
  }
 },
 "nbformat": 4,
 "nbformat_minor": 5
}
